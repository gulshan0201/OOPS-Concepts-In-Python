{
  "nbformat": 4,
  "nbformat_minor": 0,
  "metadata": {
    "colab": {
      "provenance": []
    },
    "kernelspec": {
      "name": "python3",
      "display_name": "Python 3"
    },
    "language_info": {
      "name": "python"
    }
  },
  "cells": [
    {
      "cell_type": "code",
      "source": [
        "def bubble_sort(arr):\n",
        "  n = len(arr)\n",
        "\n",
        "  for i in range(n):\n",
        "\n",
        "    for j in range(0, n - i - 1):\n",
        "      if arr[j] > arr[j + 1]:\n",
        "          arr[j], arr[j + 1] = arr[j + 1], arr[j]\n",
        "\n",
        "arr = [12,10,90,76,1,16,44]\n",
        "print(arr)\n",
        "\n",
        "bubble_sort(arr)\n",
        "print(arr)\n",
        "\n"
      ],
      "metadata": {
        "colab": {
          "base_uri": "https://localhost:8080/"
        },
        "id": "rNMjXmDwk2ff",
        "outputId": "5773e45a-2c36-4f2b-c0b1-2f4ab8020b59"
      },
      "execution_count": null,
      "outputs": [
        {
          "output_type": "stream",
          "name": "stdout",
          "text": [
            "[12, 10, 90, 76, 1, 16, 44]\n",
            "[1, 10, 12, 16, 44, 76, 90]\n"
          ]
        }
      ]
    },
    {
      "cell_type": "code",
      "source": [
        "def selection_sort(arr):\n",
        "    n = len(arr)\n",
        "\n",
        "    for i in range(n):\n",
        "        min_index = i\n",
        "\n",
        "        for j in range(i + 1, n):\n",
        "            if arr[j] < arr[min_index]:\n",
        "                min_index = j\n",
        "\n",
        "        # Swap once after finding min_index\n",
        "        arr[i], arr[min_index] = arr[min_index], arr[i]\n",
        "\n",
        "arr = [10,90,55,1,21,11]\n",
        "print(arr)\n",
        "\n",
        "selection_sort(arr)\n",
        "print(arr)"
      ],
      "metadata": {
        "colab": {
          "base_uri": "https://localhost:8080/"
        },
        "id": "2X8f9sJTpvIy",
        "outputId": "2f8f8fe3-f15b-4f83-92df-52f7399cccd5"
      },
      "execution_count": null,
      "outputs": [
        {
          "output_type": "stream",
          "name": "stdout",
          "text": [
            "[10, 90, 55, 1, 21, 11]\n",
            "[1, 10, 11, 21, 55, 90]\n"
          ]
        }
      ]
    },
    {
      "cell_type": "code",
      "source": [
        "def insertion_sort(arr, n):\n",
        "    for i in range(1, n):\n",
        "        key = arr[i]\n",
        "        j = i - 1\n",
        "        while j >= 0 and arr[j] > key:\n",
        "            arr[j + 1] = arr[j]\n",
        "            j = j - 1\n",
        "        arr[j + 1] = key\n",
        "    return arr\n",
        "\n",
        "arr = [45, 32, 16, 84, 76, 1, 19]\n",
        "n = len(arr)\n",
        "sorted_arr = insertion_sort(arr, n)\n",
        "print(\"Sorted array:\", sorted_arr)\n"
      ],
      "metadata": {
        "id": "IkC9rRAbxfXr",
        "colab": {
          "base_uri": "https://localhost:8080/"
        },
        "outputId": "5f2e34cc-b8e5-487a-9c50-24cd4bc81809"
      },
      "execution_count": null,
      "outputs": [
        {
          "output_type": "stream",
          "name": "stdout",
          "text": [
            "Sorted array: [1, 16, 19, 32, 45, 76, 84]\n"
          ]
        }
      ]
    },
    {
      "cell_type": "code",
      "source": [
        "def insertion_sort(arr,n):\n",
        "  for i in range(1,n):\n",
        "    key = arr[i]\n",
        "    j =  i - 1\n",
        "    while j >= 0 and arr[j] > key:\n",
        "      arr[j + 1] = arr[j]\n",
        "      j = j - 1\n",
        "    arr[j + 1] = key\n",
        "  return arr\n"
      ],
      "metadata": {
        "id": "TJ2Mf0Gcofnl"
      },
      "execution_count": 1,
      "outputs": []
    }
  ]
}