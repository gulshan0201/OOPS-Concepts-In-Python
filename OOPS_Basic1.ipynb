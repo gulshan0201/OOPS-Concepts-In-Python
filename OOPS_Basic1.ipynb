{
  "nbformat": 4,
  "nbformat_minor": 0,
  "metadata": {
    "colab": {
      "provenance": [],
      "authorship_tag": "ABX9TyPBUWnu5wemQk19bOFGcSyq",
      "include_colab_link": true
    },
    "kernelspec": {
      "name": "python3",
      "display_name": "Python 3"
    },
    "language_info": {
      "name": "python"
    }
  },
  "cells": [
    {
      "cell_type": "markdown",
      "metadata": {
        "id": "view-in-github",
        "colab_type": "text"
      },
      "source": [
        "<a href=\"https://colab.research.google.com/github/gulshan0201/OOPS-Concepts-In-Python/blob/main/OOPS_Basic1.ipynb\" target=\"_parent\"><img src=\"https://colab.research.google.com/assets/colab-badge.svg\" alt=\"Open In Colab\"/></a>"
      ]
    },
    {
      "cell_type": "markdown",
      "source": [
        "# Encapsulation"
      ],
      "metadata": {
        "id": "P2huXvl13P2x"
      }
    },
    {
      "cell_type": "markdown",
      "source": [
        "**1. Encapsulation (Data ko protect karna aur ek unit mein bandhna)**\n",
        "\n",
        "Encapsulation ka matlab hai data (attributes/variables) aur functions (methods)\n",
        "ko ek class ke andar bundle karna.\n",
        "\n",
        "Isse hum ek cohesive unit banate hain jahan data aur uske operations ek sath rehte hain.\n",
        "\n",
        "Hum directly variables ko access nahi karte, balki methods ke through karte hain.\n",
        "\n",
        "Fayda: data integrity maintain hoti hai, aur code secure aur modular ban jata hai."
      ],
      "metadata": {
        "id": "3gqhdSMG4b-z"
      }
    },
    {
      "cell_type": "code",
      "execution_count": null,
      "metadata": {
        "colab": {
          "base_uri": "https://localhost:8080/"
        },
        "id": "MjwTtxFt04Fu",
        "outputId": "9550be14-a77d-4ce8-83ae-9182d1734e17"
      },
      "outputs": [
        {
          "output_type": "stream",
          "name": "stdout",
          "text": [
            "7000\n"
          ]
        }
      ],
      "source": [
        "class BankAccount:\n",
        "\n",
        "  def __init__(self,balance):\n",
        "    self.__balance = balance\n",
        "\n",
        "  def deposit(self,amount):\n",
        "    self.__balance += amount\n",
        "\n",
        "  def withdraw(self,amount):\n",
        "    if amount <= self.__balance:\n",
        "      self.__balance -= amount\n",
        "    else:\n",
        "      print(\"Insufficient Balance\")\n",
        "\n",
        "  def getBalance(self):\n",
        "    return self.__balance\n",
        "\n",
        "\n",
        "acc = BankAccount(5000)\n",
        "acc.deposit(3000)\n",
        "acc.withdraw(1000)\n",
        "print(acc.getBalance())\n"
      ]
    },
    {
      "cell_type": "markdown",
      "source": [
        "# Inheritance.\n",
        "\n",
        "Inheritance is a fundamental concept in object-oriented programming where a new class (subclass or derived class) can inherit properties and behaviors from an existing class (superclass or base class). This promotes code reusability and establishes an \"is-a\" relationship between classes.\n",
        "\n",
        "Inheritance ka matlab hai ek class doosri class ki properties aur methods inherit kar sakti hai.\n",
        "\n",
        "Parent class → Child class ko apna code de deti hai.\n",
        "\n",
        "Fayda: code reusability aur duplication kam hota hai."
      ],
      "metadata": {
        "id": "hYdWnsVw5nWT"
      }
    },
    {
      "cell_type": "code",
      "source": [
        "# Superclass (Parent Class)\n",
        "class Animal:\n",
        "    def __init__(self, name):\n",
        "        self.name = name\n",
        "\n",
        "    def speak(self):\n",
        "        return f\"{self.name} makes a sound.\"\n",
        "\n",
        "# Subclass (Child Class) inheriting from Animal\n",
        "class Dog(Animal):\n",
        "    def __init__(self, name, breed):\n",
        "        # Call the constructor of the superclass\n",
        "        super().__init__(name)\n",
        "        self.breed = breed\n",
        "\n",
        "    # Override the speak method\n",
        "    def speak(self):\n",
        "        return f\"{self.name} barks loudly!\"\n",
        "\n",
        "    # New method specific to Dog\n",
        "    def fetch(self):\n",
        "        return f\"{self.name} is fetching the ball.\"\n",
        "\n",
        "# Create objects\n",
        "my_animal = Animal(\"Generic Animal\")\n",
        "my_dog = Dog(\"Buddy\", \"Golden Retriever\")\n",
        "\n",
        "# Demonstrate inherited and overridden methods\n",
        "print(my_animal.speak())\n",
        "print(my_dog.speak())\n",
        "print(my_dog.fetch())"
      ],
      "metadata": {
        "colab": {
          "base_uri": "https://localhost:8080/"
        },
        "id": "F8bf-no32zcM",
        "outputId": "5e5e961d-eb90-4050-cd94-11f2f15b12b1"
      },
      "execution_count": null,
      "outputs": [
        {
          "output_type": "stream",
          "name": "stdout",
          "text": [
            "Generic Animal makes a sound.\n",
            "Buddy barks loudly!\n",
            "Buddy is fetching the ball.\n"
          ]
        }
      ]
    },
    {
      "cell_type": "markdown",
      "source": [
        "Abstraction (Details chhupana, essentials dikhana)\n",
        "\n",
        "Abstraction ka matlab hai implementation details ko hide karna aur bas zaroori cheeze dikhana.\n",
        "\n",
        "Matlab tumhe pata hai kya kaam ho raha hai, lekin ye nahi ki kaise ho raha hai.\n",
        "\n",
        "Python mein abstraction ke liye abstract base classes (ABC module) ka use hota hai."
      ],
      "metadata": {
        "id": "i3EkOc4zsDvr"
      }
    },
    {
      "cell_type": "code",
      "source": [
        "from abc import ABC, abstractmethod\n",
        "\n",
        "class Animal():\n",
        "  @abstractmethod\n",
        "  def make_noise(self):\n",
        "    pass\n",
        "\n",
        "class Dog(Animal):\n",
        "  def make_noise(self):\n",
        "    print(\"woof\")\n",
        "\n",
        "class Cat(Animal):\n",
        "  def make_noise(self):\n",
        "    print(\"meow\")\n",
        "\n",
        "\n",
        "#Abstraction method implementation\n",
        "\n",
        "animals = [Dog(), Cat()]\n",
        "for a in animals:\n",
        "  a.make_noise()"
      ],
      "metadata": {
        "colab": {
          "base_uri": "https://localhost:8080/"
        },
        "id": "izAFgZE8sE1K",
        "outputId": "dd527fb6-7ee0-4438-928d-96ed99bed6b5"
      },
      "execution_count": null,
      "outputs": [
        {
          "output_type": "stream",
          "name": "stdout",
          "text": [
            "woof\n",
            "meow\n"
          ]
        }
      ]
    },
    {
      "cell_type": "code",
      "source": [
        "from abc import ABC, abstractmethod\n",
        "\n",
        "class Payment(ABC):\n",
        "    @abstractmethod\n",
        "    def pay(self, amount):\n",
        "        pass\n",
        "\n",
        "class CreditCardPayment(Payment):\n",
        "  def pay(self,amount):\n",
        "    print(f\"Paid {amount} using credit card.\")\n",
        "\n",
        "class DebitCard(Payment):\n",
        "  def pay(self,amount):\n",
        "    print(f\"Paid {amount} using debit card\")\n",
        "\n",
        "\n",
        "class Cash(Payment):\n",
        "   def pay(self,amount):\n",
        "    print(f\"Paid {amount} using Cash\")\n",
        "\n",
        "\n",
        "payments = [CreditCardPayment(),DebitCard(),Cash()]\n",
        "\n",
        "for p in payments:\n",
        "  p.pay(1000)"
      ],
      "metadata": {
        "colab": {
          "base_uri": "https://localhost:8080/"
        },
        "id": "AIc0yAlAtoyV",
        "outputId": "4cdab2ec-474c-464e-ec42-1aeab068769d"
      },
      "execution_count": null,
      "outputs": [
        {
          "output_type": "stream",
          "name": "stdout",
          "text": [
            "Paid 1000 using credit card.\n",
            "Paid 1000 using debit card\n",
            "Paid 1000 using Cash\n"
          ]
        }
      ]
    },
    {
      "cell_type": "code",
      "source": [
        "# Node class for Linked List\n",
        "class Node:\n",
        "    def __init__(self, data):\n",
        "        self.data = data\n",
        "        self.next = None\n",
        "\n",
        "\n",
        "# Create some linked lists\n",
        "head1 = Node(10)\n",
        "head1.next = Node(20)\n",
        "head1.next.next = Node(30)\n",
        "\n",
        "head2 = Node(\"a\")\n",
        "head2.next = Node(\"b\")\n",
        "head2.next.next = Node(\"c\")\n",
        "\n",
        "# Dictionary holding linked lists\n",
        "linked_dict = {\n",
        "    \"numbers\": head1,\n",
        "    \"letters\": head2\n",
        "}\n",
        "\n",
        "# Traversing a linked list stored in dict\n",
        "def traverse(head):\n",
        "    current = head\n",
        "    while current:\n",
        "        print(current.data, end=\" -> \")\n",
        "        current = current.next\n",
        "    print(\"None\")\n",
        "\n",
        "# Example usage\n",
        "print(\"Numbers Linked List:\")\n",
        "traverse(linked_dict[\"numbers\"])\n",
        "\n",
        "print(\"\\nLetters Linked List:\")\n",
        "traverse(linked_dict[\"letters\"])\n"
      ],
      "metadata": {
        "id": "rfJrLEIyB57h",
        "outputId": "b8faee20-734f-4b6c-c9cb-51d724fb9821",
        "colab": {
          "base_uri": "https://localhost:8080/"
        }
      },
      "execution_count": null,
      "outputs": [
        {
          "output_type": "stream",
          "name": "stdout",
          "text": [
            "Numbers Linked List:\n",
            "10 -> 20 -> 30 -> None\n",
            "\n",
            "Letters Linked List:\n",
            "a -> b -> c -> None\n"
          ]
        }
      ]
    },
    {
      "cell_type": "code",
      "source": [
        "class HashTable():\n",
        "    def __init__(self,size):\n",
        "     self.size = size # Fixed: Assign the input size to self.size\n",
        "     self.table = [[] for _ in range(size)] # Fixed: Initialize self.table\n",
        "\n",
        "    def insert(self,key):\n",
        "        # Added modulo operation to ensure index is within bounds\n",
        "        index = key % self.size\n",
        "        if key not in self.table[index]:\n",
        "           self.table[index].append(key)\n",
        "           print(f\"{key} inserted at index {index}\")\n",
        "        else:\n",
        "            print(f\"{key} already exist in index {index}\")\n",
        "\n",
        "    def display(self):\n",
        "        print(\"\\nHashTable\")\n",
        "        for i in range(self.size):\n",
        "           print(f\"Index {i}: {self.table[i]}\")\n",
        "\n",
        "size = int(input(\"Enter the size of the HashTable: \")) # Added space for clarity\n",
        "ht = HashTable(size)\n",
        "\n",
        "n = int(input(\"Enter the no of keys to insert: \"))\n",
        "\n",
        "print(f\"Enter {n} keys, one by one:\") # Improved prompt for clarity\n",
        "for _ in range(n):\n",
        "   key = int(input(\"Enter key: \")) # Added space for clarity\n",
        "   ht.insert(key)\n",
        "\n",
        "ht.display()"
      ],
      "metadata": {
        "colab": {
          "base_uri": "https://localhost:8080/"
        },
        "id": "X8rKF1kp8gnU",
        "outputId": "11e05102-cd59-4b3d-cf33-afc1c37a9507"
      },
      "execution_count": 5,
      "outputs": [
        {
          "output_type": "stream",
          "name": "stdout",
          "text": [
            "Enter the size of the HashTable: 5\n",
            "Enter the no of keys to insert: 5\n",
            "Enter 5 keys, one by one:\n",
            "Enter key: 1\n",
            "1 inserted at index 1\n",
            "Enter key: 2\n",
            "2 inserted at index 2\n",
            "Enter key: 3\n",
            "3 inserted at index 3\n",
            "Enter key: 4\n",
            "4 inserted at index 4\n",
            "Enter key: 5\n",
            "5 inserted at index 0\n",
            "\n",
            "HashTable\n",
            "Index 0: [5]\n",
            "Index 1: [1]\n",
            "Index 2: [2]\n",
            "Index 3: [3]\n",
            "Index 4: [4]\n"
          ]
        }
      ]
    }
  ]
}