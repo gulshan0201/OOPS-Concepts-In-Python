{
  "nbformat": 4,
  "nbformat_minor": 0,
  "metadata": {
    "colab": {
      "provenance": [],
      "include_colab_link": true
    },
    "kernelspec": {
      "name": "python3",
      "display_name": "Python 3"
    },
    "language_info": {
      "name": "python"
    }
  },
  "cells": [
    {
      "cell_type": "markdown",
      "metadata": {
        "id": "view-in-github",
        "colab_type": "text"
      },
      "source": [
        "<a href=\"https://colab.research.google.com/github/gulshan0201/OOPS-Concepts-In-Python/blob/main/OOPS_Basic1.ipynb\" target=\"_parent\"><img src=\"https://colab.research.google.com/assets/colab-badge.svg\" alt=\"Open In Colab\"/></a>"
      ]
    },
    {
      "cell_type": "markdown",
      "source": [
        "# Encapsulation"
      ],
      "metadata": {
        "id": "P2huXvl13P2x"
      }
    },
    {
      "cell_type": "markdown",
      "source": [
        "**1. Encapsulation (Data ko protect karna aur ek unit mein bandhna)**\n",
        "\n",
        "Encapsulation ka matlab hai data (attributes/variables) aur functions (methods)\n",
        "ko ek class ke andar bundle karna.\n",
        "\n",
        "Isse hum ek cohesive unit banate hain jahan data aur uske operations ek sath rehte hain.\n",
        "\n",
        "Hum directly variables ko access nahi karte, balki methods ke through karte hain.\n",
        "\n",
        "Fayda: data integrity maintain hoti hai, aur code secure aur modular ban jata hai."
      ],
      "metadata": {
        "id": "3gqhdSMG4b-z"
      }
    },
    {
      "cell_type": "code",
      "execution_count": null,
      "metadata": {
        "colab": {
          "base_uri": "https://localhost:8080/"
        },
        "id": "MjwTtxFt04Fu",
        "outputId": "9550be14-a77d-4ce8-83ae-9182d1734e17"
      },
      "outputs": [
        {
          "output_type": "stream",
          "name": "stdout",
          "text": [
            "7000\n"
          ]
        }
      ],
      "source": [
        "class BankAccount:\n",
        "\n",
        "  def __init__(self,balance):\n",
        "    self.__balance = balance\n",
        "\n",
        "  def deposit(self,amount):\n",
        "    self.__balance += amount\n",
        "\n",
        "  def withdraw(self,amount):\n",
        "    if amount <= self.__balance:\n",
        "      self.__balance -= amount\n",
        "    else:\n",
        "      print(\"Insufficient Balance\")\n",
        "\n",
        "  def getBalance(self):\n",
        "    return self.__balance\n",
        "\n",
        "\n",
        "acc = BankAccount(5000)\n",
        "acc.deposit(3000)\n",
        "acc.withdraw(1000)\n",
        "print(acc.getBalance())\n"
      ]
    },
    {
      "cell_type": "markdown",
      "source": [
        "# Inheritance.\n",
        "\n",
        "Inheritance is a fundamental concept in object-oriented programming where a new class (subclass or derived class) can inherit properties and behaviors from an existing class (superclass or base class). This promotes code reusability and establishes an \"is-a\" relationship between classes.\n",
        "\n",
        "Inheritance ka matlab hai ek class doosri class ki properties aur methods inherit kar sakti hai.\n",
        "\n",
        "Parent class → Child class ko apna code de deti hai.\n",
        "\n",
        "Fayda: code reusability aur duplication kam hota hai."
      ],
      "metadata": {
        "id": "hYdWnsVw5nWT"
      }
    },
    {
      "cell_type": "code",
      "source": [
        "# Superclass (Parent Class)\n",
        "class Animal:\n",
        "    def __init__(self, name):\n",
        "        self.name = name\n",
        "\n",
        "    def speak(self):\n",
        "        return f\"{self.name} makes a sound.\"\n",
        "\n",
        "# Subclass (Child Class) inheriting from Animal\n",
        "class Dog(Animal):\n",
        "    def __init__(self, name, breed):\n",
        "        # Call the constructor of the superclass\n",
        "        super().__init__(name)\n",
        "        self.breed = breed\n",
        "\n",
        "    # Override the speak method\n",
        "    def speak(self):\n",
        "        return f\"{self.name} barks loudly!\"\n",
        "\n",
        "    # New method specific to Dog\n",
        "    def fetch(self):\n",
        "        return f\"{self.name} is fetching the ball.\"\n",
        "\n",
        "# Create objects\n",
        "my_animal = Animal(\"Generic Animal\")\n",
        "my_dog = Dog(\"Buddy\", \"Golden Retriever\")\n",
        "\n",
        "# Demonstrate inherited and overridden methods\n",
        "print(my_animal.speak())\n",
        "print(my_dog.speak())\n",
        "print(my_dog.fetch())"
      ],
      "metadata": {
        "colab": {
          "base_uri": "https://localhost:8080/"
        },
        "id": "F8bf-no32zcM",
        "outputId": "5e5e961d-eb90-4050-cd94-11f2f15b12b1"
      },
      "execution_count": null,
      "outputs": [
        {
          "output_type": "stream",
          "name": "stdout",
          "text": [
            "Generic Animal makes a sound.\n",
            "Buddy barks loudly!\n",
            "Buddy is fetching the ball.\n"
          ]
        }
      ]
    },
    {
      "cell_type": "code",
      "source": [
        "from os import name\n",
        "class Animal:\n",
        "  def __init__(self, name):\n",
        "    self.name = name\n",
        "\n",
        "  def speak(self):\n",
        "    return f\"{self.name} makes a sound\"\n",
        "\n",
        "class Dog(Animal):\n",
        "  def __init__(self,name,breed):\n",
        "    super().__init__(name)\n",
        "    self.breed = breed\n",
        "\n",
        "\n",
        "  def speak(self):\n",
        "    return f\"{self.name} barks loudly\"\n",
        "\n",
        "\n",
        "  def fetch(self):\n",
        "    return f\"{self.name} is fetching the ball\"\n",
        "\n",
        "\n",
        "my_animal = Animal(\"Genric Animal\")\n",
        "my_dog = Dog(\"Tommy\", \"Labrodog\")\n",
        "\n",
        "\n",
        "print(my_animal.speak())\n",
        "print(my_dog.speak())"
      ],
      "metadata": {
        "colab": {
          "base_uri": "https://localhost:8080/"
        },
        "id": "2FfJfmRH_26_",
        "outputId": "78ac439c-d0b1-4306-cdcf-75be84a9a93b"
      },
      "execution_count": 6,
      "outputs": [
        {
          "output_type": "stream",
          "name": "stdout",
          "text": [
            "Genric Animal makes a sound\n",
            "Tommy barks loudly\n"
          ]
        }
      ]
    },
    {
      "cell_type": "code",
      "source": [],
      "metadata": {
        "id": "rfJrLEIyB57h"
      },
      "execution_count": null,
      "outputs": []
    }
  ]
}